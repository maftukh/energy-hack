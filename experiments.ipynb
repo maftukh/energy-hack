{
 "cells": [
  {
   "cell_type": "code",
   "execution_count": 34,
   "id": "de971fc5-1b5c-45ee-9b36-0b3c79679c22",
   "metadata": {},
   "outputs": [],
   "source": [
    "import pandas as pd\n",
    "import numpy as np\n",
    "import matplotlib.pyplot as plt\n",
    "from sklearn.linear_model import LinearRegression\n",
    "from sklearn.neural_network import MLPRegressor\n",
    "from sklearn.ensemble import RandomForestRegressor\n",
    "from sklearn.model_selection import train_test_split, cross_validate"
   ]
  },
  {
   "cell_type": "code",
   "execution_count": 8,
   "id": "e4d58ba6-3533-4621-8ce3-d77e6311e873",
   "metadata": {},
   "outputs": [
    {
     "data": {
      "text/plain": [
       "Index(['valve_1', 'valve_2', 'valve_3', 'valve_4', 'valve_5', 'valve_6',\n",
       "       'valve_7', 'valve_8', 'valve_9', 'valve_10', 'valve_11', 'valve_12',\n",
       "       'QGRS_1', 'QGRS_2', 'QPlant_1', 'QPlant_2', 'QPlant_3', 'QPlant_4',\n",
       "       'PGRS_1', 'PGRS_2', 'P_1', 'P_2', 'P_3', 'P_4', 'P_5', 'P_6', 'P_7',\n",
       "       'P_8', 'P_9', 'Q_1', 'Q_2', 'Q_3', 'Q_4', 'Q_5', 'Q_6', 'Q_7'],\n",
       "      dtype='object')"
      ]
     },
     "execution_count": 8,
     "metadata": {},
     "output_type": "execute_result"
    }
   ],
   "source": [
    "df = pd.read_csv('gasNetworkData.csv', sep=';')\n",
    "df.columns"
   ]
  },
  {
   "cell_type": "code",
   "execution_count": 19,
   "id": "4bfa2317-4a86-42f5-955c-d3ac9c254af5",
   "metadata": {},
   "outputs": [],
   "source": [
    "for i in range(df.shape[0]):\n",
    "    df.iloc[i] = df.iloc[i].str.replace(',', '.')\n",
    "df = df.astype('float')"
   ]
  },
  {
   "cell_type": "code",
   "execution_count": 20,
   "id": "eac8c5cf-1d99-4d1a-8d28-5a2defff54e7",
   "metadata": {},
   "outputs": [],
   "source": [
    "data = np.asarray(df.values, dtype=np.float_)\n",
    "u, s, v = np.linalg.svd(data)"
   ]
  },
  {
   "cell_type": "code",
   "execution_count": 23,
   "id": "66ffad83-f25d-43fb-9d1c-967fc64c35d9",
   "metadata": {},
   "outputs": [
    {
     "data": {
      "image/png": "[encoded data removed]",
      "text/plain": [
       "<Figure size 432x288 with 1 Axes>"
      ]
     },
     "metadata": {
      "needs_background": "light"
     },
     "output_type": "display_data"
    }
   ],
   "source": [
    "plt.plot(s/s[0])\n",
    "plt.yscale('log')"
   ]
  },
  {
   "cell_type": "code",
   "execution_count": 84,
   "id": "5c7e7cfd-6d33-422a-8c3c-9eafef668b45",
   "metadata": {},
   "outputs": [],
   "source": [
    "# all_pq_cols = \\\n",
    "#     'P_1,P_2,P_3,P_4,P_7,P_8,P_9,Q_1,Q_2,Q_3,Q_4,Q_5,Q_6,Q_7,QGRS_1,QGRS_2,QPlant_1,QPlant_2,QPlant_3,QPlant_4,PGRS_1,PGRS_2'\n",
    "# all_pq_cols = all_pq_cols.split(',')\n",
    "all_pq_cols = ['QGRS_1', 'QGRS_2', 'QPlant_1', 'QPlant_2', 'QPlant_3', 'QPlant_4',\n",
    "               'PGRS_1', 'PGRS_2', 'P_1', 'P_2', 'P_3', 'P_4', 'P_5', 'P_6', 'P_7',\n",
    "               'P_8', 'P_9', 'Q_1', 'Q_2', 'Q_3', 'Q_4', 'Q_5', 'Q_6', 'Q_7']\n",
    "valves = ['valve_1', 'valve_2', 'valve_3', 'valve_4', 'valve_5', 'valve_6',\n",
    "           'valve_7', 'valve_8', 'valve_9', 'valve_10', 'valve_11', 'valve_12']"
   ]
  },
  {
   "cell_type": "markdown",
   "id": "fdf963d2-be35-45a8-80d8-a33330b1492a",
   "metadata": {},
   "source": [
    "### Predict P1"
   ]
  },
  {
   "cell_type": "code",
   "execution_count": 74,
   "id": "2e5d93c1-ce3e-4b86-a13e-d7ffa04b4212",
   "metadata": {},
   "outputs": [],
   "source": [
    "cols_for_p1 = ['valve_5', 'valve_2', 'valve_12', 'valve_1', 'valve_6']\n",
    "data_p1 = df[cols_for_p1]\n",
    "X = data_p1.values\n",
    "y = df['P_1']"
   ]
  },
  {
   "cell_type": "code",
   "execution_count": 75,
   "id": "a5c45a3b-9abf-4549-bdce-41009a0e526e",
   "metadata": {},
   "outputs": [
    {
     "name": "stdout",
     "output_type": "stream",
     "text": [
      "0.9221422326120026 ± 0.01355398703705371\n"
     ]
    }
   ],
   "source": [
    "lin_reg = LinearRegression()\n",
    "cv_result = cross_validate(lin_reg, X, y, scoring='r2', cv=10)\n",
    "metrics = cv_result['test_score']\n",
    "print(metrics.mean(), '±', metrics.std())"
   ]
  },
  {
   "cell_type": "code",
   "execution_count": 81,
   "id": "44f35775-0f3e-48f8-83f9-ebe0a75919f7",
   "metadata": {},
   "outputs": [
    {
     "name": "stdout",
     "output_type": "stream",
     "text": [
      "0.9526405897097876 ± 0.006189190591739648\n"
     ]
    }
   ],
   "source": [
    "rf = RandomForestRegressor(n_estimators=50, max_depth=10)\n",
    "cv_result = cross_validate(rf, X, y, scoring='r2', cv=10, n_jobs=10)\n",
    "metrics = cv_result['test_score']\n",
    "print(metrics.mean(), '±', metrics.std())"
   ]
  },
  {
   "cell_type": "code",
   "execution_count": null,
   "id": "5a7c1cad-5221-4882-b349-d3fbd47561e3",
   "metadata": {},
   "outputs": [],
   "source": []
  },
  {
   "cell_type": "code",
   "execution_count": null,
   "id": "ee857f35-a5d2-4445-8e8c-d2628462a0fc",
   "metadata": {},
   "outputs": [],
   "source": []
  },
  {
   "cell_type": "markdown",
   "id": "409f3631-1ec7-475d-9609-990578875854",
   "metadata": {},
   "source": [
    "### Predict valve 3"
   ]
  },
  {
   "cell_type": "code",
   "execution_count": 69,
   "id": "ae504e3d-90f2-4f22-af8b-489abbc0dfb2",
   "metadata": {},
   "outputs": [],
   "source": [
    "# cols_for_v3 = ['P_8', 'Q_7', 'P_7']\n",
    "cols_for_v3 = all_pq_cols\n",
    "data_v3 = df[cols_for_v3]\n",
    "X = data_v3.values\n",
    "y = df['valve_3']"
   ]
  },
  {
   "cell_type": "code",
   "execution_count": 70,
   "id": "6b6c9e89-ba1d-4745-916d-c4a309616810",
   "metadata": {},
   "outputs": [
    {
     "name": "stdout",
     "output_type": "stream",
     "text": [
      "0.9058074370912272 ± 0.013915910586066631\n"
     ]
    }
   ],
   "source": [
    "lin_reg = LinearRegression()\n",
    "cv_result = cross_validate(lin_reg, X, y, scoring='r2', cv=10)\n",
    "metrics = cv_result['test_score']\n",
    "print(metrics.mean(), '±', metrics.std())"
   ]
  },
  {
   "cell_type": "code",
   "execution_count": 71,
   "id": "df34d7a5-5140-44a2-90d4-f683f96f3b37",
   "metadata": {},
   "outputs": [
    {
     "name": "stdout",
     "output_type": "stream",
     "text": [
      "0.9689441238729707 ± 0.0020380641306383548\n"
     ]
    }
   ],
   "source": [
    "rf = RandomForestRegressor(n_estimators=100, max_depth=10)\n",
    "cv_result = cross_validate(rf, X, y, scoring='r2', cv=10)\n",
    "metrics = cv_result['test_score']\n",
    "print(metrics.mean(), '±', metrics.std())"
   ]
  },
  {
   "cell_type": "code",
   "execution_count": null,
   "id": "ef4f1700-0402-4e1b-b000-98ae091fb73f",
   "metadata": {},
   "outputs": [],
   "source": []
  },
  {
   "cell_type": "code",
   "execution_count": null,
   "id": "c3d05297-53fa-4d73-9333-e4309f17e054",
   "metadata": {},
   "outputs": [],
   "source": []
  },
  {
   "cell_type": "markdown",
   "id": "bf5f7f07-1389-4290-a891-5137a293220e",
   "metadata": {},
   "source": [
    "### Predict all valves"
   ]
  },
  {
   "cell_type": "code",
   "execution_count": 73,
   "id": "55b71ef9-7705-465e-bf76-3a1494787ac5",
   "metadata": {},
   "outputs": [
    {
     "name": "stdout",
     "output_type": "stream",
     "text": [
      "valve_1: lr - 0.9939 ± 0.0011 ; rf - 0.9998 ± 0.0001\n",
      "valve_2: lr - 0.9945 ± 0.0007 ; rf - 0.9999 ± 0.0001\n",
      "valve_3: lr - 0.9058 ± 0.0139 ; rf - 0.9675 ± 0.0035\n",
      "valve_4: lr - 0.4760 ± 0.0898 ; rf - 0.4247 ± 0.1163\n",
      "valve_5: lr - 0.9309 ± 0.0144 ; rf - 0.9860 ± 0.0019\n",
      "valve_6: lr - 0.4451 ± 0.3122 ; rf - 0.3827 ± 0.1676\n",
      "valve_7: lr - 0.4425 ± 0.1551 ; rf - 0.3659 ± 0.1589\n",
      "valve_8: lr - 0.3162 ± 0.0617 ; rf - 0.2337 ± 0.0494\n",
      "valve_9: lr - 0.6228 ± 0.0609 ; rf - 0.7226 ± 0.0582\n",
      "valve_10: lr - 0.9194 ± 0.0089 ; rf - 0.9695 ± 0.0051\n",
      "valve_11: lr - 0.9511 ± 0.0055 ; rf - 0.9853 ± 0.0023\n",
      "valve_12: lr - 0.8715 ± 0.0580 ; rf - 0.9751 ± 0.0248\n"
     ]
    }
   ],
   "source": [
    "data_pq = df[all_pq_cols]\n",
    "X = data_pq.values\n",
    "valves = ['valve_1', 'valve_2', 'valve_3', 'valve_4', 'valve_5', 'valve_6',\n",
    "       'valve_7', 'valve_8', 'valve_9', 'valve_10', 'valve_11', 'valve_12']\n",
    "valve_results = {}\n",
    "for valve in valves:\n",
    "    lin_reg = LinearRegression()\n",
    "    lr_res = cross_validate(lin_reg, X, df[valve], scoring='r2', cv=10)['test_score']\n",
    "    rf = RandomForestRegressor(n_estimators=50, max_depth=10)\n",
    "    rf_res = cross_validate(rf, X, df[valve], scoring='r2', cv=10)['test_score']\n",
    "    valve_results[valve] = f'lr - {lr_res.mean():.4f} ± {lr_res.std():.4f} ; rf - {rf_res.mean():.4f} ± {rf_res.std():.4f}'\n",
    "    print(f'{valve}: lr - {lr_res.mean():.4f} ± {lr_res.std():.4f} ; rf - {rf_res.mean():.4f} ± {rf_res.std():.4f}')\n",
    "    "
   ]
  },
  {
   "cell_type": "code",
   "execution_count": null,
   "id": "2965746e-81e0-4f61-b536-8246dfd1e999",
   "metadata": {},
   "outputs": [],
   "source": []
  },
  {
   "cell_type": "code",
   "execution_count": null,
   "id": "38cccac9-f966-40f4-b0d5-34ef2ef8e74f",
   "metadata": {},
   "outputs": [],
   "source": []
  },
  {
   "cell_type": "markdown",
   "id": "e621309d-2694-4aab-8cc4-2f600fb67ec0",
   "metadata": {},
   "source": [
    "### Predict all P and Q"
   ]
  },
  {
   "cell_type": "markdown",
   "id": "bb9d2085-e77c-4365-8b81-dc2105f76ce0",
   "metadata": {},
   "source": [
    "Based on valve values only:"
   ]
  },
  {
   "cell_type": "code",
   "execution_count": 95,
   "id": "6b3032ce-5b3f-498e-876c-8c1b69fab56c",
   "metadata": {},
   "outputs": [
    {
     "name": "stdout",
     "output_type": "stream",
     "text": [
      "QGRS_1: lr - 0.9876 ± 0.0015 ;rf - 0.9980 ± 0.0007\n",
      "QGRS_2: lr - 0.9893 ± 0.0016 ;rf - 0.9977 ± 0.0008\n",
      "QPlant_1: lr - 0.8884 ± 0.0335 ;rf - 0.9408 ± 0.0084\n",
      "QPlant_2: lr - 0.9483 ± 0.0168 ;rf - 0.9641 ± 0.0068\n",
      "QPlant_3: lr - 0.9639 ± 0.0119 ;rf - 0.9753 ± 0.0030\n",
      "QPlant_4: lr - 0.9184 ± 0.0314 ;rf - 0.9841 ± 0.0017\n",
      "PGRS_1: lr - 0.9845 ± 0.0020 ;rf - 0.9849 ± 0.0033\n",
      "PGRS_2: lr - 0.9819 ± 0.0015 ;rf - 0.9801 ± 0.0051\n",
      "P_1: lr - 0.9469 ± 0.0104 ;rf - 0.9622 ± 0.0038\n",
      "P_2: lr - 0.9404 ± 0.0051 ;rf - 0.9258 ± 0.0114\n",
      "P_3: lr - 0.9142 ± 0.0135 ;rf - 0.9195 ± 0.0143\n",
      "P_4: lr - 0.9297 ± 0.0062 ;rf - 0.9346 ± 0.0126\n",
      "P_5: lr - 0.9452 ± 0.0063 ;rf - 0.9431 ± 0.0135\n",
      "P_6: lr - 0.9502 ± 0.0056 ;rf - 0.9430 ± 0.0144\n",
      "P_7: lr - 0.9586 ± 0.0073 ;rf - 0.9602 ± 0.0137\n",
      "P_8: lr - 0.9567 ± 0.0091 ;rf - 0.9587 ± 0.0114\n",
      "P_9: lr - 0.9555 ± 0.0074 ;rf - 0.9728 ± 0.0047\n",
      "Q_1: lr - 0.9425 ± 0.0057 ;rf - 0.9569 ± 0.0050\n",
      "Q_2: lr - 0.8849 ± 0.0240 ;rf - 0.9036 ± 0.0203\n",
      "Q_3: lr - 0.8845 ± 0.0330 ;rf - 0.8802 ± 0.0211\n",
      "Q_4: lr - 0.9018 ± 0.0161 ;rf - 0.9046 ± 0.0143\n",
      "Q_5: lr - 0.9206 ± 0.0109 ;rf - 0.9150 ± 0.0139\n",
      "Q_6: lr - 0.8618 ± 0.0132 ;rf - 0.8982 ± 0.0126\n",
      "Q_7: lr - 0.9523 ± 0.0051 ;rf - 0.9535 ± 0.0102\n"
     ]
    }
   ],
   "source": [
    "df_pq = df[all_pq_cols]\n",
    "X = df[valves].values\n",
    "pq_results = {}\n",
    "for device in df_pq.columns:\n",
    "    lin_reg = LinearRegression()\n",
    "    lr_res = cross_validate(lin_reg, X, df_pq[device], scoring='r2', cv=10, n_jobs=-1, return_estimator=True)\n",
    "    \n",
    "    rf = RandomForestRegressor(n_estimators=50, max_depth=10)\n",
    "    rf_res = cross_validate(rf, X, df_pq[device], scoring='r2', cv=10, n_jobs=-1, return_estimator=True)\n",
    "    \n",
    "    if rf_res['test_score'].mean() > lr_res['test_score'].mean():\n",
    "        best_model = rf_res['estimator'][np.argmax(rf_res['test_score'])]\n",
    "    else:\n",
    "        best_model = lr_res['estimator'][np.argmax(lr_res['test_score'])]\n",
    "    pq_results[device] = best_model\n",
    "    print(f'{device}: lr - {lr_res[\"test_score\"].mean():.4f} ± {lr_res[\"test_score\"].std():.4f} ;'\\\n",
    "          f'rf - {rf_res[\"test_score\"].mean():.4f} ± {rf_res[\"test_score\"].std():.4f}')\n",
    "    "
   ]
  },
  {
   "cell_type": "markdown",
   "id": "2d3b3034-21bd-4769-99a7-476cdb1d26d8",
   "metadata": {},
   "source": [
    "Based on valves and GRS P and Q values, since they are predicted very well:"
   ]
  },
  {
   "cell_type": "code",
   "execution_count": 115,
   "id": "956ee3be-6473-4c2b-a046-81a8c42f3ed9",
   "metadata": {},
   "outputs": [
    {
     "name": "stdout",
     "output_type": "stream",
     "text": [
      "QGRS_1   lr - 1.0000 ± 0.0000 ; rf - 1.0000 ± 0.0000 ; Linear Regression\n",
      "QGRS_2   lr - 1.0000 ± 0.0000 ; rf - 1.0000 ± 0.0000 ; Linear Regression\n",
      "QPlant_1 lr - 0.8919 ± 0.0340 ; rf - 0.9720 ± 0.0047 ; Random Forest\n",
      "QPlant_2 lr - 0.9490 ± 0.0161 ; rf - 0.9837 ± 0.0025 ; Random Forest\n",
      "QPlant_3 lr - 0.9641 ± 0.0114 ; rf - 0.9888 ± 0.0014 ; Random Forest\n",
      "QPlant_4 lr - 0.9661 ± 0.0098 ; rf - 0.9960 ± 0.0005 ; Random Forest\n",
      "PGRS_1   lr - 1.0000 ± 0.0000 ; rf - 1.0000 ± 0.0000 ; Linear Regression\n",
      "PGRS_2   lr - 1.0000 ± 0.0000 ; rf - 1.0000 ± 0.0000 ; Linear Regression\n",
      "P_1      lr - 0.9527 ± 0.0069 ; rf - 0.9905 ± 0.0009 ; Random Forest\n",
      "P_2      lr - 0.9645 ± 0.0029 ; rf - 0.9655 ± 0.0068 ; Random Forest\n",
      "P_3      lr - 0.9559 ± 0.0077 ; rf - 0.9556 ± 0.0095 ; Linear Regression\n",
      "P_4      lr - 0.9673 ± 0.0025 ; rf - 0.9680 ± 0.0078 ; Random Forest\n",
      "P_5      lr - 0.9762 ± 0.0024 ; rf - 0.9718 ± 0.0082 ; Linear Regression\n",
      "P_6      lr - 0.9789 ± 0.0019 ; rf - 0.9713 ± 0.0092 ; Linear Regression\n",
      "P_7      lr - 0.9774 ± 0.0040 ; rf - 0.9906 ± 0.0034 ; Random Forest\n",
      "P_8      lr - 0.9720 ± 0.0052 ; rf - 0.9860 ± 0.0042 ; Random Forest\n",
      "P_9      lr - 0.9873 ± 0.0033 ; rf - 0.9961 ± 0.0007 ; Random Forest\n",
      "Q_1      lr - 0.9482 ± 0.0035 ; rf - 0.9837 ± 0.0022 ; Random Forest\n",
      "Q_2      lr - 0.8986 ± 0.0250 ; rf - 0.9383 ± 0.0156 ; Random Forest\n",
      "Q_3      lr - 0.9169 ± 0.0288 ; rf - 0.9152 ± 0.0197 ; Linear Regression\n",
      "Q_4      lr - 0.9370 ± 0.0143 ; rf - 0.9368 ± 0.0115 ; Linear Regression\n",
      "Q_5      lr - 0.9477 ± 0.0108 ; rf - 0.9411 ± 0.0114 ; Linear Regression\n",
      "Q_6      lr - 0.8856 ± 0.0122 ; rf - 0.9497 ± 0.0091 ; Random Forest\n",
      "Q_7      lr - 0.9672 ± 0.0037 ; rf - 0.9799 ± 0.0043 ; Random Forest\n"
     ]
    }
   ],
   "source": [
    "df_pq = df[all_pq_cols]\n",
    "X = df[[*valves,  'PGRS_1', 'PGRS_2', 'QGRS_1', 'QGRS_2']].values\n",
    "pq_grs_results = {}\n",
    "for device in df_pq.columns:\n",
    "    lin_reg = LinearRegression()\n",
    "    lr_res = cross_validate(lin_reg, X, df_pq[device], scoring='r2', cv=10, n_jobs=-1, return_estimator=True)\n",
    "    \n",
    "    rf = RandomForestRegressor(n_estimators=50, max_depth=10)\n",
    "    rf_res = cross_validate(rf, X, df_pq[device], scoring='r2', cv=10, n_jobs=-1, return_estimator=True)\n",
    "    \n",
    "    if rf_res['test_score'].mean() > lr_res['test_score'].mean():\n",
    "        best_model = rf_res['estimator'][np.argmax(rf_res['test_score'])]\n",
    "        bm_name = 'Random Forest'\n",
    "    else:\n",
    "        best_model = lr_res['estimator'][np.argmax(lr_res['test_score'])]\n",
    "        bm_name = 'Linear Regression'\n",
    "        \n",
    "    pq_results[device] = best_model\n",
    "    print(f'{device:9s}lr - {lr_res[\"test_score\"].mean():.4f} ± {lr_res[\"test_score\"].std():.4f} ; '\\\n",
    "          f'rf - {rf_res[\"test_score\"].mean():.4f} ± {rf_res[\"test_score\"].std():.4f} ; '\\\n",
    "          f'{bm_name}')\n",
    "    "
   ]
  },
  {
   "cell_type": "code",
   "execution_count": 89,
   "id": "db1d615d-ba3d-46e5-b69b-2a48f7c9aae3",
   "metadata": {},
   "outputs": [
    {
     "data": {
      "text/html": [
       "<div>\n",
       "<style scoped>\n",
       "    .dataframe tbody tr th:only-of-type {\n",
       "        vertical-align: middle;\n",
       "    }\n",
       "\n",
       "    .dataframe tbody tr th {\n",
       "        vertical-align: top;\n",
       "    }\n",
       "\n",
       "    .dataframe thead th {\n",
       "        text-align: right;\n",
       "    }\n",
       "</style>\n",
       "<table border=\"1\" class=\"dataframe\">\n",
       "  <thead>\n",
       "    <tr style=\"text-align: right;\">\n",
       "      <th></th>\n",
       "      <th>valve_1</th>\n",
       "      <th>valve_2</th>\n",
       "      <th>valve_3</th>\n",
       "      <th>valve_4</th>\n",
       "      <th>valve_5</th>\n",
       "      <th>valve_6</th>\n",
       "      <th>valve_7</th>\n",
       "      <th>valve_8</th>\n",
       "      <th>valve_9</th>\n",
       "      <th>valve_10</th>\n",
       "      <th>...</th>\n",
       "      <th>P_7</th>\n",
       "      <th>P_8</th>\n",
       "      <th>P_9</th>\n",
       "      <th>Q_1</th>\n",
       "      <th>Q_2</th>\n",
       "      <th>Q_3</th>\n",
       "      <th>Q_4</th>\n",
       "      <th>Q_5</th>\n",
       "      <th>Q_6</th>\n",
       "      <th>Q_7</th>\n",
       "    </tr>\n",
       "  </thead>\n",
       "  <tbody>\n",
       "    <tr>\n",
       "      <th>0</th>\n",
       "      <td>0.860935</td>\n",
       "      <td>0.443690</td>\n",
       "      <td>0.306735</td>\n",
       "      <td>1.000000</td>\n",
       "      <td>0.728952</td>\n",
       "      <td>1.000000</td>\n",
       "      <td>0.663010</td>\n",
       "      <td>1.000000</td>\n",
       "      <td>0.226941</td>\n",
       "      <td>0.327049</td>\n",
       "      <td>...</td>\n",
       "      <td>257146.643682</td>\n",
       "      <td>202885.460552</td>\n",
       "      <td>255259.392425</td>\n",
       "      <td>1.164164</td>\n",
       "      <td>0.637044</td>\n",
       "      <td>0.644746</td>\n",
       "      <td>0.658984</td>\n",
       "      <td>0.685891</td>\n",
       "      <td>2.608879</td>\n",
       "      <td>1.069690</td>\n",
       "    </tr>\n",
       "    <tr>\n",
       "      <th>1</th>\n",
       "      <td>0.557628</td>\n",
       "      <td>0.615053</td>\n",
       "      <td>0.613400</td>\n",
       "      <td>0.103841</td>\n",
       "      <td>0.687017</td>\n",
       "      <td>0.348602</td>\n",
       "      <td>0.763177</td>\n",
       "      <td>0.476247</td>\n",
       "      <td>0.921243</td>\n",
       "      <td>0.310913</td>\n",
       "      <td>...</td>\n",
       "      <td>223286.262628</td>\n",
       "      <td>196699.095176</td>\n",
       "      <td>238643.246117</td>\n",
       "      <td>1.076435</td>\n",
       "      <td>0.562278</td>\n",
       "      <td>0.569550</td>\n",
       "      <td>0.585703</td>\n",
       "      <td>0.574112</td>\n",
       "      <td>2.512390</td>\n",
       "      <td>1.022334</td>\n",
       "    </tr>\n",
       "    <tr>\n",
       "      <th>2</th>\n",
       "      <td>0.926284</td>\n",
       "      <td>0.940594</td>\n",
       "      <td>0.858183</td>\n",
       "      <td>1.000000</td>\n",
       "      <td>0.532250</td>\n",
       "      <td>0.892400</td>\n",
       "      <td>0.434812</td>\n",
       "      <td>0.902982</td>\n",
       "      <td>0.841641</td>\n",
       "      <td>0.677520</td>\n",
       "      <td>...</td>\n",
       "      <td>298800.614359</td>\n",
       "      <td>262389.026328</td>\n",
       "      <td>293994.294138</td>\n",
       "      <td>1.294528</td>\n",
       "      <td>0.701013</td>\n",
       "      <td>0.703572</td>\n",
       "      <td>0.788734</td>\n",
       "      <td>0.768667</td>\n",
       "      <td>3.182209</td>\n",
       "      <td>1.491356</td>\n",
       "    </tr>\n",
       "    <tr>\n",
       "      <th>3</th>\n",
       "      <td>0.684077</td>\n",
       "      <td>0.410386</td>\n",
       "      <td>0.557988</td>\n",
       "      <td>0.365850</td>\n",
       "      <td>0.557272</td>\n",
       "      <td>0.673942</td>\n",
       "      <td>0.930405</td>\n",
       "      <td>0.517681</td>\n",
       "      <td>0.345683</td>\n",
       "      <td>0.988507</td>\n",
       "      <td>...</td>\n",
       "      <td>233255.897430</td>\n",
       "      <td>199985.852735</td>\n",
       "      <td>236028.488240</td>\n",
       "      <td>0.984929</td>\n",
       "      <td>0.505336</td>\n",
       "      <td>0.546835</td>\n",
       "      <td>0.620040</td>\n",
       "      <td>0.576221</td>\n",
       "      <td>2.509437</td>\n",
       "      <td>1.078984</td>\n",
       "    </tr>\n",
       "    <tr>\n",
       "      <th>4</th>\n",
       "      <td>0.770426</td>\n",
       "      <td>0.610020</td>\n",
       "      <td>0.361751</td>\n",
       "      <td>0.466569</td>\n",
       "      <td>0.812129</td>\n",
       "      <td>0.628494</td>\n",
       "      <td>1.000000</td>\n",
       "      <td>0.214384</td>\n",
       "      <td>0.428915</td>\n",
       "      <td>1.000000</td>\n",
       "      <td>...</td>\n",
       "      <td>256806.969882</td>\n",
       "      <td>208319.243658</td>\n",
       "      <td>269020.144561</td>\n",
       "      <td>1.264854</td>\n",
       "      <td>0.643253</td>\n",
       "      <td>0.636142</td>\n",
       "      <td>0.683626</td>\n",
       "      <td>0.700243</td>\n",
       "      <td>2.903733</td>\n",
       "      <td>1.135832</td>\n",
       "    </tr>\n",
       "  </tbody>\n",
       "</table>\n",
       "<p>5 rows × 36 columns</p>\n",
       "</div>"
      ],
      "text/plain": [
       "    valve_1   valve_2   valve_3   valve_4   valve_5   valve_6   valve_7  \\\n",
       "0  0.860935  0.443690  0.306735  1.000000  0.728952  1.000000  0.663010   \n",
       "1  0.557628  0.615053  0.613400  0.103841  0.687017  0.348602  0.763177   \n",
       "2  0.926284  0.940594  0.858183  1.000000  0.532250  0.892400  0.434812   \n",
       "3  0.684077  0.410386  0.557988  0.365850  0.557272  0.673942  0.930405   \n",
       "4  0.770426  0.610020  0.361751  0.466569  0.812129  0.628494  1.000000   \n",
       "\n",
       "    valve_8   valve_9  valve_10  ...            P_7            P_8  \\\n",
       "0  1.000000  0.226941  0.327049  ...  257146.643682  202885.460552   \n",
       "1  0.476247  0.921243  0.310913  ...  223286.262628  196699.095176   \n",
       "2  0.902982  0.841641  0.677520  ...  298800.614359  262389.026328   \n",
       "3  0.517681  0.345683  0.988507  ...  233255.897430  199985.852735   \n",
       "4  0.214384  0.428915  1.000000  ...  256806.969882  208319.243658   \n",
       "\n",
       "             P_9       Q_1       Q_2       Q_3       Q_4       Q_5       Q_6  \\\n",
       "0  255259.392425  1.164164  0.637044  0.644746  0.658984  0.685891  2.608879   \n",
       "1  238643.246117  1.076435  0.562278  0.569550  0.585703  0.574112  2.512390   \n",
       "2  293994.294138  1.294528  0.701013  0.703572  0.788734  0.768667  3.182209   \n",
       "3  236028.488240  0.984929  0.505336  0.546835  0.620040  0.576221  2.509437   \n",
       "4  269020.144561  1.264854  0.643253  0.636142  0.683626  0.700243  2.903733   \n",
       "\n",
       "        Q_7  \n",
       "0  1.069690  \n",
       "1  1.022334  \n",
       "2  1.491356  \n",
       "3  1.078984  \n",
       "4  1.135832  \n",
       "\n",
       "[5 rows x 36 columns]"
      ]
     },
     "execution_count": 89,
     "metadata": {},
     "output_type": "execute_result"
    }
   ],
   "source": [
    "df.head()"
   ]
  },
  {
   "cell_type": "markdown",
   "id": "76de54a6-c8b7-43c4-a1ba-7a5014237f17",
   "metadata": {},
   "source": [
    "### Test heuristics"
   ]
  },
  {
   "cell_type": "code",
   "execution_count": 96,
   "id": "abd8616a-3488-4b9f-b20c-74e5bae2ab88",
   "metadata": {},
   "outputs": [],
   "source": [
    "models = pq_results"
   ]
  },
  {
   "cell_type": "code",
   "execution_count": 103,
   "id": "22cbe8a2-94db-4efe-a849-0da9e6d68051",
   "metadata": {},
   "outputs": [],
   "source": [
    "X = df[valves].values\n",
    "heur_data = {\n",
    "    'QGRS': np.zeros(len(df), dtype=np.float32),\n",
    "    'QPrivate': np.zeros(len(df), dtype=np.float32),\n",
    "    'QPlant': np.zeros(len(df), dtype=np.float32),\n",
    "            }\n",
    "for name, model in models.items():\n",
    "    preds = model.predict(X)\n",
    "    if name.startswith('QGRS'):\n",
    "        heur_data['QGRS'] += preds\n",
    "    elif name.startswith('Q_'):\n",
    "        heur_data['QPrivate'] += preds\n",
    "    elif name.startswith('QPlant'):\n",
    "        heur_data['QPlant'] += preds"
   ]
  },
  {
   "cell_type": "code",
   "execution_count": 106,
   "id": "8bb8618c-4d35-4685-9133-435aadd161cb",
   "metadata": {},
   "outputs": [
    {
     "data": {
      "image/png": "[encoded data removed]",
      "text/plain": [
       "<Figure size 432x288 with 1 Axes>"
      ]
     },
     "metadata": {
      "needs_background": "light"
     },
     "output_type": "display_data"
    }
   ],
   "source": [
    "difference = heur_data['QGRS'] - heur_data['QPrivate'] - heur_data['QPlant']\n",
    "_ = plt.hist(difference, bins=50)"
   ]
  },
  {
   "cell_type": "code",
   "execution_count": 109,
   "id": "0ba516cd-ebaf-48f7-ab9e-e3d3c1abe12e",
   "metadata": {},
   "outputs": [
    {
     "data": {
      "text/plain": [
       "array([3.3474426, 1.1966553, 3.8134995, ..., 2.5928478, 2.8594704,\n",
       "       1.8619347], dtype=float32)"
      ]
     },
     "execution_count": 109,
     "metadata": {},
     "output_type": "execute_result"
    }
   ],
   "source": [
    "difference"
   ]
  },
  {
   "cell_type": "code",
   "execution_count": null,
   "id": "f63bdcd8-071e-4144-8f86-d05e65486038",
   "metadata": {},
   "outputs": [],
   "source": []
  },
  {
   "cell_type": "markdown",
   "id": "20253c97-b503-456a-922c-2185428e5dc0",
   "metadata": {},
   "source": [
    "### Physical model of gas flow"
   ]
  },
  {
   "cell_type": "code",
   "execution_count": 120,
   "id": "bd7e390f-ccc3-47ff-9aea-ef781abe6acd",
   "metadata": {},
   "outputs": [],
   "source": [
    "import pickle\n",
    "\n",
    "class GasNCity():\n",
    "    def __init__(self, load_models=False):\n",
    "        self.qp_cols = ['QGRS_1', 'QGRS_2', 'QPlant_1', 'QPlant_2', 'QPlant_3', 'QPlant_4',\n",
    "                        'PGRS_1', 'PGRS_2', 'P_1', 'P_2', 'P_3', 'P_4', 'P_5', 'P_6', 'P_7',\n",
    "                        'P_8', 'P_9', 'Q_1', 'Q_2', 'Q_3', 'Q_4', 'Q_5', 'Q_6', 'Q_7']\n",
    "        self.models = {}\n",
    "        if load_models:\n",
    "            for device in self.qp_cols:\n",
    "                self.models[device] = pickle.load(open(f'{device}_model.sav', 'rb'))\n",
    "    \n",
    "    def predict(self, valves):\n",
    "        valves = pd.DataFrame(valves)\n",
    "        out_data = {}\n",
    "        for device, model in self.models.items():\n",
    "            if device.startswith('QGRS') or device.startswith('PGRS'):\n",
    "                out_data[device] = model.predict(valves.values)\n",
    "        \n",
    "        df_grs = pd.DataFrame(out_data)\n",
    "        valves_grs = valves.join(df_grs)\n",
    "        for device, model in self.models.items():\n",
    "            if not device.startswith('QGRS') and not device.startswith('PGRS'):\n",
    "                out_data[device] = model.predict(valves_grs.values)\n",
    "                \n",
    "        out_df = pd.DataFrame(out_data)\n",
    "        return out_df\n",
    "    \n",
    "    def init_models(self):\n",
    "        lr_devices = ['P_3', 'P_5', 'P_6', 'Q_4', 'Q_5']\n",
    "        rf_devices = [dev for dev in self.qp_cols if dev not in lr_devices]\n",
    "        for device in lr_devices:\n",
    "            self.models[device] = LinearRegression()\n",
    "        for device in rf_devices:\n",
    "            self.models[device] = RandomForestRegressor(n_estimators=50, max_depth=10)\n",
    "            \n",
    "    def fit_models(self, data: pd.DataFrame):\n",
    "        grs_data = data.drop(['QGRS_1', 'QGRS_2', 'PGRS_1', 'PGRS_2'], inplace=False)\n",
    "        for device, model in self.models.items():\n",
    "            if device.startswith('QGRS') or device.startswith('PGRS'):\n",
    "                self.models[device] = model.fit(grs_data)\n",
    "            else:\n",
    "                self.models[device] = model.fit(data)\n",
    "    \n",
    "    def find_valves(self, pq):\n",
    "        '''Optimize valve values to fit to the pq requirements'''\n",
    "        return np.zeros((len(pq), 12))\n",
    "    \n",
    "    def validate_pq(self, pq):\n",
    "        '''Validate if the given pq values sattisfy heuristic clippings'''\n",
    "        return True\n",
    "                "
   ]
  },
  {
   "cell_type": "code",
   "execution_count": null,
   "id": "d6c778b1-0a49-475b-9c37-f16a0ae78f86",
   "metadata": {},
   "outputs": [],
   "source": []
  },
  {
   "cell_type": "code",
   "execution_count": null,
   "id": "97808170-55bd-414d-9289-8c1657cad62d",
   "metadata": {},
   "outputs": [],
   "source": []
  }
 ],
 "metadata": {
  "kernelspec": {
   "display_name": "Python 3",
   "language": "python",
   "name": "python3"
  },
  "language_info": {
   "codemirror_mode": {
    "name": "ipython",
    "version": 3
   },
   "file_extension": ".py",
   "mimetype": "text/x-python",
   "name": "python",
   "nbconvert_exporter": "python",
   "pygments_lexer": "ipython3",
   "version": "3.8.3"
  }
 },
 "nbformat": 4,
 "nbformat_minor": 5
}

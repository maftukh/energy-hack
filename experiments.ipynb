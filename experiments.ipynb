{
 "cells": [
  {
   "cell_type": "code",
   "execution_count": 204,
   "id": "de971fc5-1b5c-45ee-9b36-0b3c79679c22",
   "metadata": {},
   "outputs": [],
   "source": [
    "import pandas as pd\n",
    "import numpy as np\n",
    "import pickle\n",
    "import itertools\n",
    "from collections import OrderedDict\n",
    "from tqdm import tqdm\n",
    "import matplotlib.pyplot as plt\n",
    "from sklearn.linear_model import LinearRegression, Lasso, ElasticNet\n",
    "from sklearn.neural_network import MLPRegressor\n",
    "from sklearn.ensemble import RandomForestRegressor, AdaBoostRegressor\n",
    "from sklearn.model_selection import train_test_split, cross_validate\n",
    "from sklearn.preprocessing import StandardScaler\n",
    "from sklearn.metrics import r2_score"
   ]
  },
  {
   "cell_type": "code",
   "execution_count": 2,
   "id": "e4d58ba6-3533-4621-8ce3-d77e6311e873",
   "metadata": {},
   "outputs": [
    {
     "data": {
      "text/plain": [
       "Index(['valve_1', 'valve_2', 'valve_3', 'valve_4', 'valve_5', 'valve_6',\n",
       "       'valve_7', 'valve_8', 'valve_9', 'valve_10', 'valve_11', 'valve_12',\n",
       "       'QGRS_1', 'QGRS_2', 'QPlant_1', 'QPlant_2', 'QPlant_3', 'QPlant_4',\n",
       "       'PGRS_1', 'PGRS_2', 'P_1', 'P_2', 'P_3', 'P_4', 'P_5', 'P_6', 'P_7',\n",
       "       'P_8', 'P_9', 'Q_1', 'Q_2', 'Q_3', 'Q_4', 'Q_5', 'Q_6', 'Q_7'],\n",
       "      dtype='object')"
      ]
     },
     "execution_count": 2,
     "metadata": {},
     "output_type": "execute_result"
    }
   ],
   "source": [
    "df = pd.read_csv('gasNetworkData.csv', sep=';')\n",
    "df.columns"
   ]
  },
  {
   "cell_type": "code",
   "execution_count": 3,
   "id": "4bfa2317-4a86-42f5-955c-d3ac9c254af5",
   "metadata": {},
   "outputs": [],
   "source": [
    "for i in range(df.shape[0]):\n",
    "    df.iloc[i] = df.iloc[i].str.replace(',', '.')\n",
    "df = df.astype('float')"
   ]
  },
  {
   "cell_type": "code",
   "execution_count": 4,
   "id": "eac8c5cf-1d99-4d1a-8d28-5a2defff54e7",
   "metadata": {},
   "outputs": [],
   "source": [
    "data = np.asarray(df.values, dtype=np.float_)\n",
    "u, s, v = np.linalg.svd(data)"
   ]
  },
  {
   "cell_type": "code",
   "execution_count": 5,
   "id": "66ffad83-f25d-43fb-9d1c-967fc64c35d9",
   "metadata": {},
   "outputs": [
    {
     "data": {
      "image/png": "[encoded data removed]",
      "text/plain": [
       "<Figure size 432x288 with 1 Axes>"
      ]
     },
     "metadata": {
      "needs_background": "light"
     },
     "output_type": "display_data"
    }
   ],
   "source": [
    "plt.plot(s/s[0])\n",
    "plt.yscale('log')"
   ]
  },
  {
   "cell_type": "code",
   "execution_count": 6,
   "id": "5c7e7cfd-6d33-422a-8c3c-9eafef668b45",
   "metadata": {},
   "outputs": [],
   "source": [
    "# all_pq_cols = \\\n",
    "#     'P_1,P_2,P_3,P_4,P_7,P_8,P_9,Q_1,Q_2,Q_3,Q_4,Q_5,Q_6,Q_7,QGRS_1,QGRS_2,QPlant_1,QPlant_2,QPlant_3,QPlant_4,PGRS_1,PGRS_2'\n",
    "# all_pq_cols = all_pq_cols.split(',')\n",
    "all_pq_cols = ['QGRS_1', 'QGRS_2', 'QPlant_1', 'QPlant_2', 'QPlant_3', 'QPlant_4',\n",
    "               'PGRS_1', 'PGRS_2', 'P_1', 'P_2', 'P_3', 'P_4', 'P_5', 'P_6', 'P_7',\n",
    "               'P_8', 'P_9', 'Q_1', 'Q_2', 'Q_3', 'Q_4', 'Q_5', 'Q_6', 'Q_7']\n",
    "valves = ['valve_1', 'valve_2', 'valve_3', 'valve_4', 'valve_5', 'valve_6',\n",
    "           'valve_7', 'valve_8', 'valve_9', 'valve_10', 'valve_11', 'valve_12']"
   ]
  },
  {
   "cell_type": "markdown",
   "id": "fdf963d2-be35-45a8-80d8-a33330b1492a",
   "metadata": {},
   "source": [
    "### Predict P1"
   ]
  },
  {
   "cell_type": "code",
   "execution_count": 7,
   "id": "2e5d93c1-ce3e-4b86-a13e-d7ffa04b4212",
   "metadata": {},
   "outputs": [],
   "source": [
    "cols_for_p1 = ['valve_5', 'valve_2', 'valve_12', 'valve_1', 'valve_6']\n",
    "data_p1 = df[cols_for_p1]\n",
    "X = data_p1.values\n",
    "y = df['P_1']"
   ]
  },
  {
   "cell_type": "code",
   "execution_count": 8,
   "id": "a5c45a3b-9abf-4549-bdce-41009a0e526e",
   "metadata": {},
   "outputs": [
    {
     "name": "stdout",
     "output_type": "stream",
     "text": [
      "0.9221422326120026 ± 0.01355398703705371\n"
     ]
    }
   ],
   "source": [
    "lin_reg = LinearRegression()\n",
    "cv_result = cross_validate(lin_reg, X, y, scoring='r2', cv=10)\n",
    "metrics = cv_result['test_score']\n",
    "print(metrics.mean(), '±', metrics.std())"
   ]
  },
  {
   "cell_type": "code",
   "execution_count": 9,
   "id": "44f35775-0f3e-48f8-83f9-ebe0a75919f7",
   "metadata": {},
   "outputs": [
    {
     "name": "stdout",
     "output_type": "stream",
     "text": [
      "0.9529226640618841 ± 0.00583511126965094\n"
     ]
    }
   ],
   "source": [
    "rf = RandomForestRegressor(n_estimators=50, max_depth=10)\n",
    "cv_result = cross_validate(rf, X, y, scoring='r2', cv=10, n_jobs=10)\n",
    "metrics = cv_result['test_score']\n",
    "print(metrics.mean(), '±', metrics.std())"
   ]
  },
  {
   "cell_type": "code",
   "execution_count": null,
   "id": "5a7c1cad-5221-4882-b349-d3fbd47561e3",
   "metadata": {},
   "outputs": [],
   "source": []
  },
  {
   "cell_type": "code",
   "execution_count": null,
   "id": "ee857f35-a5d2-4445-8e8c-d2628462a0fc",
   "metadata": {},
   "outputs": [],
   "source": []
  },
  {
   "cell_type": "markdown",
   "id": "409f3631-1ec7-475d-9609-990578875854",
   "metadata": {},
   "source": [
    "### Predict valve 3"
   ]
  },
  {
   "cell_type": "code",
   "execution_count": 10,
   "id": "ae504e3d-90f2-4f22-af8b-489abbc0dfb2",
   "metadata": {},
   "outputs": [],
   "source": [
    "# cols_for_v3 = ['P_8', 'Q_7', 'P_7']\n",
    "cols_for_v3 = all_pq_cols\n",
    "data_v3 = df[cols_for_v3]\n",
    "X = data_v3.values\n",
    "y = df['valve_3']"
   ]
  },
  {
   "cell_type": "code",
   "execution_count": 11,
   "id": "6b6c9e89-ba1d-4745-916d-c4a309616810",
   "metadata": {},
   "outputs": [
    {
     "name": "stdout",
     "output_type": "stream",
     "text": [
      "0.9057647888869551 ± 0.013947469930775558\n"
     ]
    }
   ],
   "source": [
    "lin_reg = LinearRegression()\n",
    "cv_result = cross_validate(lin_reg, X, y, scoring='r2', cv=10)\n",
    "metrics = cv_result['test_score']\n",
    "print(metrics.mean(), '±', metrics.std())"
   ]
  },
  {
   "cell_type": "code",
   "execution_count": 13,
   "id": "df34d7a5-5140-44a2-90d4-f683f96f3b37",
   "metadata": {},
   "outputs": [
    {
     "name": "stdout",
     "output_type": "stream",
     "text": [
      "0.9682547728674409 ± 0.002720340773023703\n"
     ]
    }
   ],
   "source": [
    "rf = RandomForestRegressor(n_estimators=100, max_depth=10)\n",
    "cv_result = cross_validate(rf, X, y, scoring='r2', cv=10)\n",
    "metrics = cv_result['test_score']\n",
    "print(metrics.mean(), '±', metrics.std())"
   ]
  },
  {
   "cell_type": "code",
   "execution_count": null,
   "id": "ef4f1700-0402-4e1b-b000-98ae091fb73f",
   "metadata": {},
   "outputs": [],
   "source": []
  },
  {
   "cell_type": "code",
   "execution_count": null,
   "id": "c3d05297-53fa-4d73-9333-e4309f17e054",
   "metadata": {},
   "outputs": [],
   "source": []
  },
  {
   "cell_type": "markdown",
   "id": "bf5f7f07-1389-4290-a891-5137a293220e",
   "metadata": {},
   "source": [
    "### Predict all valves"
   ]
  },
  {
   "cell_type": "code",
   "execution_count": 97,
   "id": "55b71ef9-7705-465e-bf76-3a1494787ac5",
   "metadata": {},
   "outputs": [
    {
     "name": "stdout",
     "output_type": "stream",
     "text": [
      "valve_1: lr - 0.9939 ± 0.0011 ; rf - 0.9861 ± 0.0039\n",
      "valve_2: lr - 0.9945 ± 0.0007 ; rf - 0.9868 ± 0.0038\n",
      "valve_3: lr - 0.9058 ± 0.0139 ; rf - 0.5198 ± 0.1917\n",
      "valve_4: lr - 0.4852 ± 0.0907 ; rf - -0.0516 ± 0.1613\n",
      "valve_5: lr - 0.9407 ± 0.0119 ; rf - 0.7033 ± 0.0954\n",
      "valve_6: lr - 0.4455 ± 0.3109 ; rf - -0.0126 ± 0.2237\n",
      "valve_7: lr - 0.4474 ± 0.1539 ; rf - 0.0982 ± 0.1893\n",
      "valve_8: lr - 0.3160 ± 0.0627 ; rf - 0.0207 ± 0.1200\n",
      "valve_9: lr - 0.6232 ± 0.0604 ; rf - 0.5057 ± 0.0667\n",
      "valve_10: lr - 0.9194 ± 0.0089 ; rf - 0.8141 ± 0.0519\n",
      "valve_11: lr - 0.9511 ± 0.0056 ; rf - 0.9046 ± 0.0262\n",
      "valve_12: lr - 0.8716 ± 0.0581 ; rf - 0.7756 ± 0.1053\n"
     ]
    }
   ],
   "source": [
    "data_pq = df[all_pq_cols]\n",
    "X = data_pq.values\n",
    "scaler = StandardScaler()\n",
    "X_scaled = scaler.fit_transform(X)\n",
    "valves = ['valve_1', 'valve_2', 'valve_3', 'valve_4', 'valve_5', 'valve_6',\n",
    "       'valve_7', 'valve_8', 'valve_9', 'valve_10', 'valve_11', 'valve_12']\n",
    "valve_results = {}\n",
    "for valve in valves:\n",
    "    lin_reg = LinearRegression()\n",
    "    lr_res = cross_validate(lin_reg, X_scaled, df[valve], scoring='r2', cv=10, n_jobs=-1)['test_score']\n",
    "    rf = AdaBoostRegressor(n_estimators=100)\n",
    "    rf_res = cross_validate(rf, X, df[valve], scoring='r2', cv=10, n_jobs=-1)['test_score']\n",
    "    valve_results[valve] = f'lr - {lr_res.mean():.4f} ± {lr_res.std():.4f} ; rf - {rf_res.mean():.4f} ± {rf_res.std():.4f}'\n",
    "    print(f'{valve}: lr - {lr_res.mean():.4f} ± {lr_res.std():.4f} ; rf - {rf_res.mean():.4f} ± {rf_res.std():.4f}')\n",
    "    "
   ]
  },
  {
   "cell_type": "markdown",
   "id": "c289e718-951b-40cf-8c0f-442c2df4e0fb",
   "metadata": {},
   "source": [
    "#### Testing with additional data"
   ]
  },
  {
   "cell_type": "code",
   "execution_count": 74,
   "id": "38cccac9-f966-40f4-b0d5-34ef2ef8e74f",
   "metadata": {},
   "outputs": [],
   "source": [
    "df_add = pd.read_csv('additionalData.csv', sep=';')\n",
    "for i in range(df_add.shape[0]):\n",
    "    df_add.iloc[i] = df_add.iloc[i].str.replace(',', '.')\n",
    "df_add = df_add.astype('float')\n",
    "all_pq_cols_add = ['QGRS_1', 'QGRS_2', 'QPlant_1', 'QPlant_2', 'QPlant_3', 'QPlant_4',\n",
    "                   'PGRS_1', 'PGRS_2', 'P_1', 'P_2', 'P_3', 'P_4', 'P_5', 'P_6', 'P_7',\n",
    "                   'P_8', 'P_9', 'Q_1', 'Q_2', 'Q_3', 'Q_4', 'Q_5', 'Q_6', 'Q_7', 'Q_8']"
   ]
  },
  {
   "cell_type": "code",
   "execution_count": 99,
   "id": "b41bc6b5-86dc-413a-b75a-390c019f03ad",
   "metadata": {},
   "outputs": [
    {
     "name": "stdout",
     "output_type": "stream",
     "text": [
      "valve_1: lr - 0.9950 ± 0.0009 ; rf - 0.9986 ± 0.0001\n",
      "valve_2: lr - 0.9954 ± 0.0005 ; rf - 0.9990 ± 0.0002\n",
      "valve_3: lr - 0.9217 ± 0.0083 ; rf - 0.9088 ± 0.0141\n",
      "valve_4: lr - 0.6124 ± 0.0415 ; rf - 0.3697 ± 0.0524\n",
      "valve_5: lr - 0.9458 ± 0.0085 ; rf - 0.9477 ± 0.0068\n",
      "valve_6: lr - 0.5831 ± 0.0438 ; rf - 0.2643 ± 0.0436\n",
      "valve_7: lr - 0.6454 ± 0.0423 ; rf - 0.2821 ± 0.0643\n",
      "valve_8: lr - 0.6083 ± 0.0528 ; rf - 0.1176 ± 0.0844\n",
      "valve_9: lr - 0.6221 ± 0.0351 ; rf - 0.6253 ± 0.0715\n",
      "valve_10: lr - 0.9445 ± 0.0093 ; rf - 0.9625 ± 0.0100\n",
      "valve_11: lr - 0.9644 ± 0.0060 ; rf - 0.9796 ± 0.0052\n",
      "valve_12: lr - 0.8594 ± 0.0242 ; rf - 0.9554 ± 0.0171\n"
     ]
    }
   ],
   "source": [
    "data_pq = df_add[all_pq_cols_add]\n",
    "X = data_pq.values\n",
    "scaler = StandardScaler()\n",
    "X_scaled = scaler.fit_transform(X)\n",
    "valves = ['valve_1', 'valve_2', 'valve_3', 'valve_4', 'valve_5', 'valve_6',\n",
    "       'valve_7', 'valve_8', 'valve_9', 'valve_10', 'valve_11', 'valve_12']\n",
    "valve_results = {}\n",
    "for valve in valves:\n",
    "    lin_reg = LinearRegression()\n",
    "    lr_res = cross_validate(lin_reg, X_scaled, df_add[valve], scoring='r2', cv=10, n_jobs=-1)['test_score']\n",
    "    rf = RandomForestRegressor(n_estimators=50, max_depth=12)\n",
    "    rf_res = cross_validate(rf, X, df_add[valve], scoring='r2', cv=10, n_jobs=-1)['test_score']\n",
    "    valve_results[valve] = f'lr - {lr_res.mean():.4f} ± {lr_res.std():.4f} ; rf - {rf_res.mean():.4f} ± {rf_res.std():.4f}'\n",
    "    print(f'{valve}: lr - {lr_res.mean():.4f} ± {lr_res.std():.4f} ; rf - {rf_res.mean():.4f} ± {rf_res.std():.4f}')\n",
    "    "
   ]
  },
  {
   "cell_type": "code",
   "execution_count": null,
   "id": "8177844d-e4ac-40ae-9197-64228335c4d0",
   "metadata": {},
   "outputs": [],
   "source": []
  },
  {
   "cell_type": "markdown",
   "id": "e621309d-2694-4aab-8cc4-2f600fb67ec0",
   "metadata": {},
   "source": [
    "### Predict all P and Q"
   ]
  },
  {
   "cell_type": "markdown",
   "id": "bb9d2085-e77c-4365-8b81-dc2105f76ce0",
   "metadata": {},
   "source": [
    "Based on valve values only:"
   ]
  },
  {
   "cell_type": "code",
   "execution_count": 95,
   "id": "6b3032ce-5b3f-498e-876c-8c1b69fab56c",
   "metadata": {},
   "outputs": [
    {
     "name": "stdout",
     "output_type": "stream",
     "text": [
      "QGRS_1: lr - 0.9876 ± 0.0015 ;rf - 0.9980 ± 0.0007\n",
      "QGRS_2: lr - 0.9893 ± 0.0016 ;rf - 0.9977 ± 0.0008\n",
      "QPlant_1: lr - 0.8884 ± 0.0335 ;rf - 0.9408 ± 0.0084\n",
      "QPlant_2: lr - 0.9483 ± 0.0168 ;rf - 0.9641 ± 0.0068\n",
      "QPlant_3: lr - 0.9639 ± 0.0119 ;rf - 0.9753 ± 0.0030\n",
      "QPlant_4: lr - 0.9184 ± 0.0314 ;rf - 0.9841 ± 0.0017\n",
      "PGRS_1: lr - 0.9845 ± 0.0020 ;rf - 0.9849 ± 0.0033\n",
      "PGRS_2: lr - 0.9819 ± 0.0015 ;rf - 0.9801 ± 0.0051\n",
      "P_1: lr - 0.9469 ± 0.0104 ;rf - 0.9622 ± 0.0038\n",
      "P_2: lr - 0.9404 ± 0.0051 ;rf - 0.9258 ± 0.0114\n",
      "P_3: lr - 0.9142 ± 0.0135 ;rf - 0.9195 ± 0.0143\n",
      "P_4: lr - 0.9297 ± 0.0062 ;rf - 0.9346 ± 0.0126\n",
      "P_5: lr - 0.9452 ± 0.0063 ;rf - 0.9431 ± 0.0135\n",
      "P_6: lr - 0.9502 ± 0.0056 ;rf - 0.9430 ± 0.0144\n",
      "P_7: lr - 0.9586 ± 0.0073 ;rf - 0.9602 ± 0.0137\n",
      "P_8: lr - 0.9567 ± 0.0091 ;rf - 0.9587 ± 0.0114\n",
      "P_9: lr - 0.9555 ± 0.0074 ;rf - 0.9728 ± 0.0047\n",
      "Q_1: lr - 0.9425 ± 0.0057 ;rf - 0.9569 ± 0.0050\n",
      "Q_2: lr - 0.8849 ± 0.0240 ;rf - 0.9036 ± 0.0203\n",
      "Q_3: lr - 0.8845 ± 0.0330 ;rf - 0.8802 ± 0.0211\n",
      "Q_4: lr - 0.9018 ± 0.0161 ;rf - 0.9046 ± 0.0143\n",
      "Q_5: lr - 0.9206 ± 0.0109 ;rf - 0.9150 ± 0.0139\n",
      "Q_6: lr - 0.8618 ± 0.0132 ;rf - 0.8982 ± 0.0126\n",
      "Q_7: lr - 0.9523 ± 0.0051 ;rf - 0.9535 ± 0.0102\n"
     ]
    }
   ],
   "source": [
    "df_pq = df[all_pq_cols]\n",
    "X = df[valves].values\n",
    "pq_results = {}\n",
    "for device in df_pq.columns:\n",
    "    lin_reg = LinearRegression()\n",
    "    lr_res = cross_validate(lin_reg, X, df_pq[device], scoring='r2', cv=10, n_jobs=-1, return_estimator=True)\n",
    "    \n",
    "    rf = RandomForestRegressor(n_estimators=50, max_depth=10)\n",
    "    rf_res = cross_validate(rf, X, df_pq[device], scoring='r2', cv=10, n_jobs=-1, return_estimator=True)\n",
    "    \n",
    "    if rf_res['test_score'].mean() > lr_res['test_score'].mean():\n",
    "        best_model = rf_res['estimator'][np.argmax(rf_res['test_score'])]\n",
    "    else:\n",
    "        best_model = lr_res['estimator'][np.argmax(lr_res['test_score'])]\n",
    "    pq_results[device] = best_model\n",
    "    print(f'{device}: lr - {lr_res[\"test_score\"].mean():.4f} ± {lr_res[\"test_score\"].std():.4f} ;'\\\n",
    "          f'rf - {rf_res[\"test_score\"].mean():.4f} ± {rf_res[\"test_score\"].std():.4f}')\n",
    "    "
   ]
  },
  {
   "cell_type": "markdown",
   "id": "2d3b3034-21bd-4769-99a7-476cdb1d26d8",
   "metadata": {},
   "source": [
    "Based on valves and GRS P and Q values, since they are predicted very well:"
   ]
  },
  {
   "cell_type": "code",
   "execution_count": 20,
   "id": "956ee3be-6473-4c2b-a046-81a8c42f3ed9",
   "metadata": {},
   "outputs": [
    {
     "name": "stdout",
     "output_type": "stream",
     "text": [
      "QGRS_1   lr - 1.0000 ± 0.0000 ; rf - 1.0000 ± 0.0000 ; Linear Regression\n",
      "QGRS_2   lr - 1.0000 ± 0.0000 ; rf - 1.0000 ± 0.0000 ; Linear Regression\n",
      "QPlant_1 lr - 0.8919 ± 0.0340 ; rf - 0.9720 ± 0.0043 ; Random Forest\n",
      "QPlant_2 lr - 0.9490 ± 0.0161 ; rf - 0.9838 ± 0.0024 ; Random Forest\n",
      "QPlant_3 lr - 0.9641 ± 0.0114 ; rf - 0.9889 ± 0.0012 ; Random Forest\n",
      "QPlant_4 lr - 0.9661 ± 0.0098 ; rf - 0.9960 ± 0.0004 ; Random Forest\n",
      "PGRS_1   lr - 1.0000 ± 0.0000 ; rf - 1.0000 ± 0.0000 ; Linear Regression\n",
      "PGRS_2   lr - 1.0000 ± 0.0000 ; rf - 1.0000 ± 0.0000 ; Linear Regression\n",
      "P_1      lr - 0.9527 ± 0.0069 ; rf - 0.9906 ± 0.0009 ; Random Forest\n",
      "P_2      lr - 0.9645 ± 0.0029 ; rf - 0.9653 ± 0.0072 ; Random Forest\n",
      "P_3      lr - 0.9559 ± 0.0077 ; rf - 0.9557 ± 0.0098 ; Linear Regression\n",
      "P_4      lr - 0.9673 ± 0.0025 ; rf - 0.9677 ± 0.0076 ; Random Forest\n",
      "P_5      lr - 0.9762 ± 0.0024 ; rf - 0.9724 ± 0.0079 ; Linear Regression\n",
      "P_6      lr - 0.9789 ± 0.0019 ; rf - 0.9713 ± 0.0090 ; Linear Regression\n",
      "P_7      lr - 0.9774 ± 0.0040 ; rf - 0.9906 ± 0.0033 ; Random Forest\n",
      "P_8      lr - 0.9720 ± 0.0052 ; rf - 0.9858 ± 0.0043 ; Random Forest\n",
      "P_9      lr - 0.9873 ± 0.0033 ; rf - 0.9962 ± 0.0006 ; Random Forest\n",
      "Q_1      lr - 0.9482 ± 0.0035 ; rf - 0.9839 ± 0.0021 ; Random Forest\n",
      "Q_2      lr - 0.8986 ± 0.0250 ; rf - 0.9384 ± 0.0156 ; Random Forest\n",
      "Q_3      lr - 0.9169 ± 0.0288 ; rf - 0.9154 ± 0.0195 ; Linear Regression\n",
      "Q_4      lr - 0.9370 ± 0.0143 ; rf - 0.9366 ± 0.0118 ; Linear Regression\n",
      "Q_5      lr - 0.9477 ± 0.0108 ; rf - 0.9408 ± 0.0117 ; Linear Regression\n",
      "Q_6      lr - 0.8856 ± 0.0122 ; rf - 0.9492 ± 0.0096 ; Random Forest\n",
      "Q_7      lr - 0.9672 ± 0.0037 ; rf - 0.9798 ± 0.0043 ; Random Forest\n"
     ]
    }
   ],
   "source": [
    "df_pq = df[all_pq_cols]\n",
    "X = df[valves].values\n",
    "X_grs = df[[*valves,  'PGRS_1', 'PGRS_2', 'QGRS_1', 'QGRS_2']].values\n",
    "scaler = StandardScaler()\n",
    "X_scaled = scaler.fit_transform(X)\n",
    "pq_grs_results = {}\n",
    "for device in df_pq.columns:\n",
    "    lin_reg = LinearRegression()\n",
    "    lr_res = cross_validate(lin_reg, X_scaled, df_pq[device], scoring='r2', cv=10, n_jobs=-1, return_estimator=True)\n",
    "    \n",
    "    rf = RandomForestRegressor(n_estimators=50, max_depth=10)\n",
    "    rf_res = cross_validate(rf, X, df_pq[device], scoring='r2', cv=10, n_jobs=-1, return_estimator=True)\n",
    "    \n",
    "    if rf_res['test_score'].mean() > lr_res['test_score'].mean():\n",
    "        best_model = rf_res['estimator'][np.argmax(rf_res['test_score'])]\n",
    "        bm_name = 'Random Forest'\n",
    "    else:\n",
    "        best_model = lr_res['estimator'][np.argmax(lr_res['test_score'])]\n",
    "        bm_name = 'Linear Regression'\n",
    "        \n",
    "    pq_grs_results[device] = best_model\n",
    "    print(f'{device:9s}lr - {lr_res[\"test_score\"].mean():.4f} ± {lr_res[\"test_score\"].std():.4f} ; '\\\n",
    "          f'rf - {rf_res[\"test_score\"].mean():.4f} ± {rf_res[\"test_score\"].std():.4f} ; '\\\n",
    "          f'{bm_name}')\n",
    "    "
   ]
  },
  {
   "cell_type": "code",
   "execution_count": 28,
   "id": "db1d615d-ba3d-46e5-b69b-2a48f7c9aae3",
   "metadata": {},
   "outputs": [],
   "source": [
    "for device, model in pq_grs_results.items():\n",
    "    pickle.dump(model, open(os.path.join('models', f'{device}_model.sav'), 'wb'))"
   ]
  },
  {
   "cell_type": "markdown",
   "id": "76de54a6-c8b7-43c4-a1ba-7a5014237f17",
   "metadata": {},
   "source": [
    "### Test heuristics"
   ]
  },
  {
   "cell_type": "code",
   "execution_count": 96,
   "id": "abd8616a-3488-4b9f-b20c-74e5bae2ab88",
   "metadata": {},
   "outputs": [],
   "source": [
    "models = pq_results"
   ]
  },
  {
   "cell_type": "code",
   "execution_count": 103,
   "id": "22cbe8a2-94db-4efe-a849-0da9e6d68051",
   "metadata": {},
   "outputs": [],
   "source": [
    "X = df[valves].values\n",
    "heur_data = {\n",
    "    'QGRS': np.zeros(len(df), dtype=np.float32),\n",
    "    'QPrivate': np.zeros(len(df), dtype=np.float32),\n",
    "    'QPlant': np.zeros(len(df), dtype=np.float32),\n",
    "            }\n",
    "for name, model in models.items():\n",
    "    preds = model.predict(X)\n",
    "    if name.startswith('QGRS'):\n",
    "        heur_data['QGRS'] += preds\n",
    "    elif name.startswith('Q_'):\n",
    "        heur_data['QPrivate'] += preds\n",
    "    elif name.startswith('QPlant'):\n",
    "        heur_data['QPlant'] += preds"
   ]
  },
  {
   "cell_type": "code",
   "execution_count": 106,
   "id": "8bb8618c-4d35-4685-9133-435aadd161cb",
   "metadata": {},
   "outputs": [
    {
     "data": {
      "image/png": "[encoded data removed]",
      "text/plain": [
       "<Figure size 432x288 with 1 Axes>"
      ]
     },
     "metadata": {
      "needs_background": "light"
     },
     "output_type": "display_data"
    }
   ],
   "source": [
    "difference = heur_data['QGRS'] - heur_data['QPrivate'] - heur_data['QPlant']\n",
    "_ = plt.hist(difference, bins=50)"
   ]
  },
  {
   "cell_type": "code",
   "execution_count": 109,
   "id": "0ba516cd-ebaf-48f7-ab9e-e3d3c1abe12e",
   "metadata": {},
   "outputs": [
    {
     "data": {
      "text/plain": [
       "array([3.3474426, 1.1966553, 3.8134995, ..., 2.5928478, 2.8594704,\n",
       "       1.8619347], dtype=float32)"
      ]
     },
     "execution_count": 109,
     "metadata": {},
     "output_type": "execute_result"
    }
   ],
   "source": [
    "difference"
   ]
  },
  {
   "cell_type": "code",
   "execution_count": null,
   "id": "f63bdcd8-071e-4144-8f86-d05e65486038",
   "metadata": {},
   "outputs": [],
   "source": []
  },
  {
   "cell_type": "markdown",
   "id": "20253c97-b503-456a-922c-2185428e5dc0",
   "metadata": {},
   "source": [
    "### Physical model of gas flow"
   ]
  },
  {
   "cell_type": "code",
   "execution_count": 259,
   "id": "bd7e390f-ccc3-47ff-9aea-ef781abe6acd",
   "metadata": {},
   "outputs": [],
   "source": [
    "import pickle\n",
    "import os\n",
    "from scipy.optimize import root\n",
    "\n",
    "class GasNCity():\n",
    "    def __init__(self, load_models=False, folder_path = ''):\n",
    "        self.qp_cols = ['QGRS_1', 'QGRS_2', 'QPlant_1', 'QPlant_2', 'QPlant_3', 'QPlant_4',\n",
    "                        'PGRS_1', 'PGRS_2', 'P_1', 'P_2', 'P_3', 'P_4', 'P_5', 'P_6', 'P_7',\n",
    "                        'P_8', 'P_9', 'Q_1', 'Q_2', 'Q_3', 'Q_4', 'Q_5', 'Q_6', 'Q_7']\n",
    "        self.qp_models = {}\n",
    "        self.valves = ['valve_1', 'valve_2', 'valve_3', 'valve_4', 'valve_5', 'valve_6',\n",
    "                       'valve_7', 'valve_8', 'valve_9', 'valve_10', 'valve_11', 'valve_12']\n",
    "        self.good_valves = ['valve_1', 'valve_2', 'valve_3', \n",
    "                            'valve_5', 'valve_10', 'valve_11', 'valve_12']\n",
    "        self.valve_models = {}\n",
    "        if load_models:\n",
    "            for device in self.qp_cols:\n",
    "                path = os.path.join(folder_path, f'{device}_model.sav')\n",
    "                self.qp_models[device] = pickle.load(open(path, 'rb'))\n",
    "            for valve in self.good_valves:\n",
    "                path = os.path.join(folder_path, f'{valve}_model.sav')\n",
    "                self.valve_models[valve] = pickle.load(open(path, 'rb'))\n",
    "    \n",
    "    def predict_qp(self, valves):\n",
    "        valves = pd.DataFrame(valves)\n",
    "        out_data = {}\n",
    "        for device, model in self.qp_models.items():\n",
    "            if device.startswith('QGRS') or device.startswith('PGRS'):\n",
    "                out_data[device] = model.predict(valves)\n",
    "        \n",
    "        df_grs = pd.DataFrame(out_data)\n",
    "        valves_grs = valves.join(df_grs)\n",
    "        for device, model in self.qp_models.items():\n",
    "            if not device.startswith('QGRS') and not device.startswith('PGRS'):\n",
    "                out_data[device] = model.predict(valves_grs)\n",
    "                \n",
    "        out_df = pd.DataFrame(out_data)\n",
    "        return out_df\n",
    "    \n",
    "    def predict_good_valves(self, qps):\n",
    "        pqs = pd.DataFrame(qps)\n",
    "        out_valves = {}\n",
    "        for valve, model in self.valve_models.items():\n",
    "            out_valves[valve] = model.predict(qps.values)\n",
    "        out_df = pd.DataFrame(out_valves)\n",
    "        return out_df\n",
    "            \n",
    "    \n",
    "    def init_models(self):\n",
    "        lr_qp_devices = self.qp_cols #['P_3', 'P_5', 'P_6', 'Q_4', 'Q_5']\n",
    "        rf_qp_devices = [dev for dev in self.qp_cols if dev not in lr_qp_devices]\n",
    "        \n",
    "        lr_v_models = ['valve_3']\n",
    "        rf_v_models = ['valve_1', 'valve_2', 'valve_5', 'valve_10', 'valve_11', 'valve_12']\n",
    "        for device in lr_qp_devices:\n",
    "            self.qp_models[device] = LinearRegression()\n",
    "        for device in rf_qp_devices:\n",
    "            self.qp_models[device] = RandomForestRegressor(n_estimators=50, max_depth=10)\n",
    "        for v in lr_v_models:\n",
    "            self.valve_models[v] = LinearRegression()\n",
    "        for v in rf_v_models:\n",
    "            self.valve_models[v] = RandomForestRegressor(n_estimators=50, max_depth=10)\n",
    "            \n",
    "    def fit_models(self, data: pd.DataFrame, y: pd.DataFrame, verbose=False):\n",
    "        '''\n",
    "        data: valve values\n",
    "        y: device values\n",
    "        '''\n",
    "        self.qp_mean = y.mean()\n",
    "        self.qp_std = y.std()\n",
    "        for valve, model in self.valve_models.items():\n",
    "            self.valve_models[valve] = model.fit(y, data[valve])\n",
    "            if verbose:\n",
    "                print(f'Model for {valve} fited')\n",
    "        grs_data = data.join(y[['QGRS_1', 'QGRS_2', 'PGRS_1', 'PGRS_2']])\n",
    "        for device, model in self.qp_models.items():\n",
    "            if device.startswith('QGRS') or device.startswith('PGRS'):\n",
    "                self.qp_models[device] = model.fit(data, y[device])\n",
    "            else:\n",
    "                self.qp_models[device] = model.fit(grs_data, y[device])\n",
    "            if verbose:\n",
    "                print(f'Model for {device} fited')\n",
    "    \n",
    "    \n",
    "    def save_models(self, folder: str = ''):\n",
    "        for device, model in self.qp_models.items():\n",
    "            path = os.path.join(folder, f'{device}_model.sav')\n",
    "            pickle.dump(model, open(path, 'wb'))\n",
    "        for device, model in self.valve_models.items():\n",
    "            path = os.path.join(folder, f'{device}_model.sav')\n",
    "            pickle.dump(model, open(path, 'wb'))\n",
    "    \n",
    "    \n",
    "    def find_valves(self, qps, constraint=[], verbose=False):\n",
    "        '''Optimize valve values to fit to the qp requirements'''\n",
    "        valves_to_predict = [v for v in self.valves if v not in self.good_valves and v not in constraint]\n",
    "        grid = OrderedDict()\n",
    "        for v in sorted(valves_to_predict, key=lambda t: int(t.split('_')[-1])):\n",
    "            grid[v] = np.linspace(0.1, 1, num=6, endpoint=True)\n",
    "        params = OrderedDict()\n",
    "        for v in sorted(self.valves, key=lambda t: int(t.split('_')[-1])):\n",
    "            params[v] = []\n",
    "        out = OrderedDict()\n",
    "        for v in sorted(self.valves, key=lambda t: int(t.split('_')[-1])):\n",
    "            out[v] = []\n",
    "        \n",
    "        good_valves = self.predict_good_valves(qps)\n",
    "        for v in good_valves.columns:\n",
    "            out[v] = good_valves[v].values\n",
    "        for v in constraint:\n",
    "            out[v] = np.zeros(len(qps))\n",
    "        for entry, qp in enumerate(qps.values):\n",
    "            rmse_data = []\n",
    "            best_rmse = np.inf\n",
    "            best_combo = {}\n",
    "            for guess in tqdm(itertools.product(*grid.values())):\n",
    "                for v in good_valves.columns:\n",
    "                    params[v] = [good_valves[v][entry]]\n",
    "\n",
    "                for i, v in enumerate(grid.keys()):\n",
    "                    params[v] = [guess[i]]\n",
    "                \n",
    "                qp_pred = (self.predict_qp(pd.DataFrame(params)) - self.qp_mean) / self.qp_std\n",
    "                qp_scaled = (qp - self.qp_mean) / self.qp_std\n",
    "                rmse = np.sum(((qp_pred - qp_scaled)**2 / (qp_scaled+1e-6)**2).values)\n",
    "                rmse_data.append(rmse)\n",
    "                if rmse < best_rmse:\n",
    "                    best_rmse = rmse\n",
    "                    best_combo = params\n",
    "            for v in valves_to_predict:\n",
    "                out[v].append(best_combo[v][0])\n",
    "            if verbose:\n",
    "                print(f'Solution found for {entry}-th entry')\n",
    "            plt.plot(rmse_data)\n",
    "        return pd.DataFrame(out)\n",
    "\n",
    "    \n",
    "    def plant_q_rule(self, series, threshold=1e-1):\n",
    "        return (series >= threshold).astype(int)\n",
    "\n",
    "\n",
    "    def private_q_rule(self, series, threshold=0.6):\n",
    "        name = series.name\n",
    "        if name in ['Q_1', 'Q_7']:\n",
    "            threshold *= 2\n",
    "        if name in ['Q_6']:\n",
    "            threshold *= 4\n",
    "        return (series >= threshold).astype(int)\n",
    "\n",
    "\n",
    "    def get_q_by_p(self, pressure):\n",
    "        if pressure.name in ['P_1', 'P_8']:\n",
    "            return -0.3 + pressure * 7 / 1e6\n",
    "\n",
    "        elif pressure.name in ['P_2', 'P_3', 'P_4', 'P_6']:\n",
    "            return -0.2 + pressure * 4 / 1e6\n",
    "\n",
    "\n",
    "    def validate_plant(self, preds):\n",
    "        res = self.plant_q_rule(preds)\n",
    "        return res\n",
    "\n",
    "\n",
    "    def validate_private(self, preds):\n",
    "        res = self.private_q_rule(preds)\n",
    "        return res\n",
    "\n",
    "\n",
    "    def check_distribution(self, preds):\n",
    "        pass\n",
    "\n",
    "\n",
    "    def check_pressure_order(self, idx, preds):\n",
    "        determined_pairs = [\n",
    "            ('P_9', 'P_8'),\n",
    "            ('P_7', 'P_8'),\n",
    "            ('P_7', 'P_6'),\n",
    "            ('P_7', 'P_5'),\n",
    "            ('P_4', 'P_3'),\n",
    "            ('P_6', 'P_3'),\n",
    "            ('P_6', 'P_2'),\n",
    "        ]\n",
    "\n",
    "        most_probable_pairs = [\n",
    "            ('P_9', 'P_1'),\n",
    "            ('P_7', 'P_4'),\n",
    "        ]\n",
    "\n",
    "        for pair in determined_pairs:\n",
    "            if preds[pair[0]] < preds[pair[1]]:\n",
    "                print(f\"WARNING in row {idx}: There's no such case in the dataset: \"\n",
    "                      f\"{pair[1]} is greater than {pair[0]}. Please check your predictions\")\n",
    "\n",
    "        for pair in most_probable_pairs:\n",
    "            if preds[pair[0]] < preds[pair[1]]:\n",
    "                print(f\"WARNING in row {idx}: There are very few such case in the dataset: \"\n",
    "                      f\"{pair[1]} is greater than {pair[0]}. Please check your predictions\")\n",
    "        return\n",
    "\n",
    "\n",
    "    def check_p_q_relationship(self, preds):\n",
    "        mapping = {\n",
    "            'P_1': 'Q_1',\n",
    "            'P_4': 'Q_4',\n",
    "            'P_6': 'Q_5',\n",
    "            'P_8': 'Q_7',\n",
    "            'P_2': 'Q_2',\n",
    "            'P_3': 'Q_3',\n",
    "        }\n",
    "\n",
    "        for i in range(1, 10):\n",
    "            col = f'P_{i}'\n",
    "            # If not checked, continue\n",
    "            if col not in mapping:\n",
    "                continue\n",
    "\n",
    "            # Preprocess column\n",
    "            series = preds[col]\n",
    "            if i == 2:\n",
    "                series /= 2\n",
    "                series += preds['P_1'] / 2\n",
    "\n",
    "            # Check the difference between predicted and original\n",
    "            diff_allowed = 0.05\n",
    "            if i in [2, 3]:\n",
    "                diff_allowed = 0.07\n",
    "            elif i in [1, 8]:\n",
    "                diff_allowed = 0.1\n",
    "\n",
    "            q_pred = self.get_q_by_p(series)\n",
    "            diff = (preds[mapping[col]] - q_pred).abs()\n",
    "            bad_index = diff[diff > diff_allowed].index\n",
    "            if bad_index.shape[0] > 0:\n",
    "                print(f'WARNING in rows {bad_index.values}: {col} does not follow {mapping[col]} relationship')\n",
    "\n",
    "\n",
    "    def check_validity(self, preds):\n",
    "        # Check \"Q exceeds min level\"\n",
    "        for i in range(1, 8):\n",
    "            preds[f'validPrivate_{i}'] = self.validate_private(preds[f'Q_{i}'])\n",
    "\n",
    "        for i in range(1, 5):\n",
    "            preds[f'validPlant_{i}'] = self.validate_plant(preds[f'QPlant_{i}'])\n",
    "\n",
    "        # Check \"P_9 > 200 000 for Plant 4\"\n",
    "        preds['validP9'] = (preds['P_9'] > 200000).astype(int)\n",
    "\n",
    "        # Check order of Pressures\n",
    "        for idx, row in preds.iterrows():\n",
    "            self.check_pressure_order(idx, row)\n",
    "\n",
    "        # Check that some specific Q and P follow their linear relationship\n",
    "        self.check_p_q_relationship(preds)\n",
    "\n",
    "        cols = [i for i in preds.columns if i.startswith('valid')]\n",
    "        validity_score = preds[cols].mean(axis=1)\n",
    "        validity_binary = preds[cols].product(axis=1)\n",
    "\n",
    "        return validity_binary, validity_score\n"
   ]
  },
  {
   "cell_type": "markdown",
   "id": "38569c0e-aa0c-4ed8-818d-eb0bf21d1418",
   "metadata": {},
   "source": [
    "Let's test it!"
   ]
  },
  {
   "cell_type": "code",
   "execution_count": 260,
   "id": "97808170-55bd-414d-9289-8c1657cad62d",
   "metadata": {},
   "outputs": [
    {
     "name": "stdout",
     "output_type": "stream",
     "text": [
      "Model for valve_3 fited\n",
      "Model for valve_1 fited\n",
      "Model for valve_2 fited\n",
      "Model for valve_5 fited\n",
      "Model for valve_10 fited\n",
      "Model for valve_11 fited\n",
      "Model for valve_12 fited\n",
      "Model for QGRS_1 fited\n",
      "Model for QGRS_2 fited\n",
      "Model for QPlant_1 fited\n",
      "Model for QPlant_2 fited\n",
      "Model for QPlant_3 fited\n",
      "Model for QPlant_4 fited\n",
      "Model for PGRS_1 fited\n",
      "Model for PGRS_2 fited\n",
      "Model for P_1 fited\n",
      "Model for P_2 fited\n",
      "Model for P_3 fited\n",
      "Model for P_4 fited\n",
      "Model for P_5 fited\n",
      "Model for P_6 fited\n",
      "Model for P_7 fited\n",
      "Model for P_8 fited\n",
      "Model for P_9 fited\n",
      "Model for Q_1 fited\n",
      "Model for Q_2 fited\n",
      "Model for Q_3 fited\n",
      "Model for Q_4 fited\n",
      "Model for Q_5 fited\n",
      "Model for Q_6 fited\n",
      "Model for Q_7 fited\n"
     ]
    }
   ],
   "source": [
    "gas = GasNCity(load_models=False, folder_path='models')\n",
    "gas.init_models()\n",
    "gas.fit_models(df[valves], y=df[all_pq_cols], verbose=True)\n",
    "# gas = GasNCity(load_models=True, folder_path='models')"
   ]
  },
  {
   "cell_type": "code",
   "execution_count": 261,
   "id": "5a9684de-cacb-4293-a765-50f3f387688d",
   "metadata": {},
   "outputs": [],
   "source": [
    "gas.save_models('models')"
   ]
  },
  {
   "cell_type": "code",
   "execution_count": 262,
   "id": "dd2ca779-61b9-4af1-aaa7-bf4b08ac1620",
   "metadata": {},
   "outputs": [
    {
     "name": "stderr",
     "output_type": "stream",
     "text": [
      "7776it [03:42, 34.96it/s]"
     ]
    },
    {
     "name": "stdout",
     "output_type": "stream",
     "text": [
      "Solution found for 0-th entry\n"
     ]
    },
    {
     "name": "stderr",
     "output_type": "stream",
     "text": [
      "\n"
     ]
    },
    {
     "data": {
      "text/html": [
       "<div>\n",
       "<style scoped>\n",
       "    .dataframe tbody tr th:only-of-type {\n",
       "        vertical-align: middle;\n",
       "    }\n",
       "\n",
       "    .dataframe tbody tr th {\n",
       "        vertical-align: top;\n",
       "    }\n",
       "\n",
       "    .dataframe thead th {\n",
       "        text-align: right;\n",
       "    }\n",
       "</style>\n",
       "<table border=\"1\" class=\"dataframe\">\n",
       "  <thead>\n",
       "    <tr style=\"text-align: right;\">\n",
       "      <th></th>\n",
       "      <th>valve_1</th>\n",
       "      <th>valve_2</th>\n",
       "      <th>valve_3</th>\n",
       "      <th>valve_4</th>\n",
       "      <th>valve_5</th>\n",
       "      <th>valve_6</th>\n",
       "      <th>valve_7</th>\n",
       "      <th>valve_8</th>\n",
       "      <th>valve_9</th>\n",
       "      <th>valve_10</th>\n",
       "      <th>valve_11</th>\n",
       "      <th>valve_12</th>\n",
       "    </tr>\n",
       "  </thead>\n",
       "  <tbody>\n",
       "    <tr>\n",
       "      <th>0</th>\n",
       "      <td>0.860689</td>\n",
       "      <td>0.443507</td>\n",
       "      <td>0.306254</td>\n",
       "      <td>1.0</td>\n",
       "      <td>0.723737</td>\n",
       "      <td>1.0</td>\n",
       "      <td>1.0</td>\n",
       "      <td>1.0</td>\n",
       "      <td>1.0</td>\n",
       "      <td>0.327774</td>\n",
       "      <td>0.773479</td>\n",
       "      <td>0.998259</td>\n",
       "    </tr>\n",
       "  </tbody>\n",
       "</table>\n",
       "</div>"
      ],
      "text/plain": [
       "    valve_1   valve_2   valve_3  valve_4   valve_5  valve_6  valve_7  valve_8  \\\n",
       "0  0.860689  0.443507  0.306254      1.0  0.723737      1.0      1.0      1.0   \n",
       "\n",
       "   valve_9  valve_10  valve_11  valve_12  \n",
       "0      1.0  0.327774  0.773479  0.998259  "
      ]
     },
     "execution_count": 262,
     "metadata": {},
     "output_type": "execute_result"
    },
    {
     "data": {
      "image/png": "[encoded data removed]",
      "text/plain": [
       "<Figure size 432x288 with 1 Axes>"
      ]
     },
     "metadata": {
      "needs_background": "light"
     },
     "output_type": "display_data"
    }
   ],
   "source": [
    "res = gas.find_valves(df[all_pq_cols][:1], verbose=True)\n",
    "res"
   ]
  },
  {
   "cell_type": "code",
   "execution_count": 267,
   "id": "c9dd7dd2-a8e6-43dd-9b62-26f68fb9517a",
   "metadata": {},
   "outputs": [
    {
     "name": "stdout",
     "output_type": "stream",
     "text": [
      "9.14 ms ± 146 µs per loop (mean ± std. dev. of 7 runs, 100 loops each)\n"
     ]
    }
   ],
   "source": [
    "qps = gas.predict_qp(res)\n",
    "%timeit gas.check_validity(qps)"
   ]
  },
  {
   "cell_type": "code",
   "execution_count": 264,
   "id": "1b79640e-0402-4c56-bb21-bb8b1259d4db",
   "metadata": {},
   "outputs": [
    {
     "data": {
      "text/html": [
       "<div>\n",
       "<style scoped>\n",
       "    .dataframe tbody tr th:only-of-type {\n",
       "        vertical-align: middle;\n",
       "    }\n",
       "\n",
       "    .dataframe tbody tr th {\n",
       "        vertical-align: top;\n",
       "    }\n",
       "\n",
       "    .dataframe thead th {\n",
       "        text-align: right;\n",
       "    }\n",
       "</style>\n",
       "<table border=\"1\" class=\"dataframe\">\n",
       "  <thead>\n",
       "    <tr style=\"text-align: right;\">\n",
       "      <th></th>\n",
       "      <th>QGRS_1</th>\n",
       "      <th>QGRS_2</th>\n",
       "      <th>QPlant_1</th>\n",
       "      <th>QPlant_2</th>\n",
       "      <th>QPlant_3</th>\n",
       "      <th>QPlant_4</th>\n",
       "      <th>PGRS_1</th>\n",
       "      <th>PGRS_2</th>\n",
       "      <th>P_1</th>\n",
       "      <th>P_2</th>\n",
       "      <th>...</th>\n",
       "      <th>P_7</th>\n",
       "      <th>P_8</th>\n",
       "      <th>P_9</th>\n",
       "      <th>Q_1</th>\n",
       "      <th>Q_2</th>\n",
       "      <th>Q_3</th>\n",
       "      <th>Q_4</th>\n",
       "      <th>Q_5</th>\n",
       "      <th>Q_6</th>\n",
       "      <th>Q_7</th>\n",
       "    </tr>\n",
       "  </thead>\n",
       "  <tbody>\n",
       "    <tr>\n",
       "      <th>0</th>\n",
       "      <td>17.911733</td>\n",
       "      <td>9.257217</td>\n",
       "      <td>1.122351</td>\n",
       "      <td>2.148112</td>\n",
       "      <td>5.624864</td>\n",
       "      <td>8.07628</td>\n",
       "      <td>303535.895746</td>\n",
       "      <td>261828.526728</td>\n",
       "      <td>213391.443357</td>\n",
       "      <td>202884.784496</td>\n",
       "      <td>...</td>\n",
       "      <td>257146.643682</td>\n",
       "      <td>202885.460552</td>\n",
       "      <td>255259.392425</td>\n",
       "      <td>1.164164</td>\n",
       "      <td>0.637044</td>\n",
       "      <td>0.644746</td>\n",
       "      <td>0.658984</td>\n",
       "      <td>0.685891</td>\n",
       "      <td>2.608879</td>\n",
       "      <td>1.06969</td>\n",
       "    </tr>\n",
       "  </tbody>\n",
       "</table>\n",
       "<p>1 rows × 24 columns</p>\n",
       "</div>"
      ],
      "text/plain": [
       "      QGRS_1    QGRS_2  QPlant_1  QPlant_2  QPlant_3  QPlant_4         PGRS_1  \\\n",
       "0  17.911733  9.257217  1.122351  2.148112  5.624864   8.07628  303535.895746   \n",
       "\n",
       "          PGRS_2            P_1            P_2  ...            P_7  \\\n",
       "0  261828.526728  213391.443357  202884.784496  ...  257146.643682   \n",
       "\n",
       "             P_8            P_9       Q_1       Q_2       Q_3       Q_4  \\\n",
       "0  202885.460552  255259.392425  1.164164  0.637044  0.644746  0.658984   \n",
       "\n",
       "        Q_5       Q_6      Q_7  \n",
       "0  0.685891  2.608879  1.06969  \n",
       "\n",
       "[1 rows x 24 columns]"
      ]
     },
     "execution_count": 264,
     "metadata": {},
     "output_type": "execute_result"
    }
   ],
   "source": [
    "df[all_pq_cols][:1]"
   ]
  },
  {
   "cell_type": "code",
   "execution_count": 240,
   "id": "a0a05858-50c4-4e0d-be59-f82bbfe17fd4",
   "metadata": {},
   "outputs": [],
   "source": [
    "qps.to_csv('val.csv')"
   ]
  },
  {
   "cell_type": "code",
   "execution_count": 182,
   "id": "d8e9fd7e-f2ec-4d57-9d07-06fe851cb587",
   "metadata": {},
   "outputs": [
    {
     "data": {
      "text/plain": [
       "(   a  b\n",
       " 0  1  4\n",
       " 1  2  5\n",
       " 2  3  6,\n",
       "    a\n",
       " 0  1\n",
       " 1  2\n",
       " 2  3,\n",
       "    b\n",
       " 0  4\n",
       " 1  5\n",
       " 2  6)"
      ]
     },
     "execution_count": 182,
     "metadata": {},
     "output_type": "execute_result"
    }
   ],
   "source": [
    "a = pd.DataFrame({'a':[1,2,3]})\n",
    "b = pd.DataFrame({'b':[4,5,6]})\n",
    "c = a.join(b)\n",
    "c, a, b"
   ]
  },
  {
   "cell_type": "code",
   "execution_count": null,
   "id": "3404211b-1ba1-4804-9f9e-a9ff76a76c80",
   "metadata": {},
   "outputs": [],
   "source": []
  }
 ],
 "metadata": {
  "kernelspec": {
   "display_name": "Python 3",
   "language": "python",
   "name": "python3"
  },
  "language_info": {
   "codemirror_mode": {
    "name": "ipython",
    "version": 3
   },
   "file_extension": ".py",
   "mimetype": "text/x-python",
   "name": "python",
   "nbconvert_exporter": "python",
   "pygments_lexer": "ipython3",
   "version": "3.8.3"
  }
 },
 "nbformat": 4,
 "nbformat_minor": 5
}
